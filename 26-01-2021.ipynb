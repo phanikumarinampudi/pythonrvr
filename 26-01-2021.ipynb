{
 "cells": [
  {
   "cell_type": "code",
   "execution_count": 4,
   "id": "spread-georgia",
   "metadata": {},
   "outputs": [
    {
     "name": "stdout",
     "output_type": "stream",
     "text": [
      "enter a number5\n",
      "not a perfect\n"
     ]
    }
   ],
   "source": [
    "n = int(input('enter a number'))\n",
    "s = 0\n",
    "for i in range(1,n):\n",
    "    if n%i==0:\n",
    "        s+=1\n",
    "if s==n:\n",
    "    print('perfect number')\n",
    "else:\n",
    "    print('not a perfect')"
   ]
  },
  {
   "cell_type": "code",
   "execution_count": 14,
   "id": "pending-awareness",
   "metadata": {},
   "outputs": [
    {
     "name": "stdout",
     "output_type": "stream",
     "text": [
      "enter tables up to:5\n",
      "enter table length:3\n",
      "1 *1 = 1\n",
      "1 *2 = 2\n",
      "1 *3 = 3\n",
      "2 *1 = 2\n",
      "2 *2 = 4\n",
      "2 *3 = 6\n",
      "3 *1 = 3\n",
      "3 *2 = 6\n",
      "3 *3 = 9\n",
      "4 *1 = 4\n",
      "4 *2 = 8\n",
      "4 *3 = 12\n",
      "5 *1 = 5\n",
      "5 *2 = 10\n",
      "5 *3 = 15\n"
     ]
    }
   ],
   "source": [
    "t = int(input('enter tables up to:'))\n",
    "t_len = int(input('enter table length:'))\n",
    "for i in range(1,t+1):\n",
    "    for j in range(1,t_len+1):\n",
    "        print('{} *{} = {}'.format(i,j,i*j))\n",
    "        "
   ]
  },
  {
   "cell_type": "code",
   "execution_count": 13,
   "id": "established-black",
   "metadata": {},
   "outputs": [
    {
     "name": "stdout",
     "output_type": "stream",
     "text": [
      "1 2 3 4 6 7 8 9 "
     ]
    }
   ],
   "source": [
    "for i in range(1,10):\n",
    "    \n",
    "    if i == 5:\n",
    "        continue\n",
    "    print(i,end = ' ')    "
   ]
  },
  {
   "cell_type": "markdown",
   "id": "distant-suite",
   "metadata": {},
   "source": [
    "### FUNCTIONS:"
   ]
  },
  {
   "cell_type": "markdown",
   "id": "mechanical-committee",
   "metadata": {},
   "source": [
    "-block of code to perform some operations\n",
    "\n",
    "-advantages:\n",
    "\n",
    "    -code reusability\n",
    "    \n",
    "    -readbuilty of the program\n",
    "    \n",
    "    -code reduce\n",
    "    \n",
    "    -time decrease\n",
    "- types of functions:\n",
    "\n",
    "    -1 . inbuilt/default functions:\n",
    "        - ex .print,sum,max,min,int\n",
    "    -2 . userdefined functions:\n",
    "       1.function creation:\n",
    "          1. function declaration:\n",
    "             def functionname(arg):\n",
    "          2.function defination:\n",
    "             'statements'\n",
    "       2 . function calling:\n",
    "           'by using function name'  \n",
    "     -3 . special functions:\n",
    "         .lambda,comprehensions,literators,map"
   ]
  },
  {
   "cell_type": "code",
   "execution_count": 15,
   "id": "vocal-connection",
   "metadata": {},
   "outputs": [
    {
     "data": {
      "text/plain": [
       "1"
      ]
     },
     "execution_count": 15,
     "metadata": {},
     "output_type": "execute_result"
    }
   ],
   "source": [
    "min([1,2,3])"
   ]
  },
  {
   "cell_type": "code",
   "execution_count": 16,
   "id": "threatened-penguin",
   "metadata": {},
   "outputs": [
    {
     "name": "stdout",
     "output_type": "stream",
     "text": [
      "9\n"
     ]
    }
   ],
   "source": [
    "#FUNCTION CREATION:\n",
    "def add(a,b):\n",
    "    print(a+b)\n",
    "add(4,5)    "
   ]
  },
  {
   "cell_type": "code",
   "execution_count": null,
   "id": "perfect-coordinator",
   "metadata": {},
   "outputs": [],
   "source": [
    "def subtract(a,b):\n",
    "    print(a-b)\n",
    "subtract(10,5)    "
   ]
  },
  {
   "cell_type": "markdown",
   "id": "opposed-proportion",
   "metadata": {},
   "source": [
    "###  types of user define functions:\n",
    "#based on return value:\n",
    "\n",
    "1 . without arg and with out return value\n",
    "\n",
    "2 . without arg and with return value\n",
    "\n",
    "3 . with arg and with out return value\n",
    "\n",
    "4 . With arg and with return value "
   ]
  },
  {
   "cell_type": "markdown",
   "id": "complex-fraud",
   "metadata": {},
   "source": [
    "#  1 . without arg and without return value"
   ]
  },
  {
   "cell_type": "code",
   "execution_count": 19,
   "id": "sonic-numbers",
   "metadata": {},
   "outputs": [
    {
     "name": "stdout",
     "output_type": "stream",
     "text": [
      "enter n value:5\n",
      "number is factor of 10\n",
      "enter n value:5\n",
      "number is factor of 10\n",
      "None\n"
     ]
    }
   ],
   "source": [
    "def f1():\n",
    "    n = int(input('enter n value:'))\n",
    "    if 10%n == 0:\n",
    "        print('number is factor of 10')\n",
    "    else:\n",
    "        print('number is not a factor of 10')\n",
    "f1()\n",
    "n = f1()\n",
    "print(n)"
   ]
  },
  {
   "cell_type": "markdown",
   "id": "lesbian-investment",
   "metadata": {},
   "source": [
    "#  2 . with out arg and with return value"
   ]
  },
  {
   "cell_type": "code",
   "execution_count": 21,
   "id": "weekly-minister",
   "metadata": {
    "scrolled": true
   },
   "outputs": [
    {
     "name": "stdout",
     "output_type": "stream",
     "text": [
      "enter n1 value2\n",
      "enter n2 value4\n",
      "6\n",
      "-2\n",
      "8\n",
      "0.5\n"
     ]
    }
   ],
   "source": [
    "def f2():\n",
    "    n1 = int(input('enter n1 value'))\n",
    "    n2 = int(input('enter n2 value'))\n",
    "    return n1,n2,n1+n2,n1-n2,n1*n2,n1/n2\n",
    "a,b,c,d,e,f = f2()\n",
    "print(c)\n",
    "print(d)\n",
    "print(e)\n",
    "print(f)"
   ]
  },
  {
   "cell_type": "markdown",
   "id": "departmental-kitchen",
   "metadata": {},
   "source": [
    "# 3 . with arg and with out return value"
   ]
  },
  {
   "cell_type": "code",
   "execution_count": 22,
   "id": "delayed-habitat",
   "metadata": {},
   "outputs": [
    {
     "name": "stdout",
     "output_type": "stream",
     "text": [
      "enter n1 value2\n",
      "enter n2 value4\n",
      "add is: 6\n",
      "subtact is: -2\n",
      "multiply is: 8\n",
      "division is: 0.5\n"
     ]
    }
   ],
   "source": [
    "n1 = int(input('enter n1 value'))\n",
    "n2 = int(input('enter n2 value'))\n",
    "def f2(n1,n2):\n",
    "    print('add is:',n1+n2)\n",
    "    print('subtact is:',n1-n2)\n",
    "    print('multiply is:',n1*n2)\n",
    "    print('division is:',n1/n2)\n",
    "f2(n1,n2)    "
   ]
  },
  {
   "cell_type": "markdown",
   "id": "absolute-catch",
   "metadata": {},
   "source": [
    "#  4 . with arg and with return value"
   ]
  },
  {
   "cell_type": "code",
   "execution_count": 28,
   "id": "neither-introduction",
   "metadata": {},
   "outputs": [
    {
     "name": "stdout",
     "output_type": "stream",
     "text": [
      "enter n1 value1\n",
      "enter n2 value2\n",
      "add is: 3\n",
      "subtact is: -1\n",
      "multiply is: 2\n",
      "division is: 0.5\n"
     ]
    }
   ],
   "source": [
    "n1 = int(input('enter n1 value'))\n",
    "n2 = int(input('enter n2 value'))\n",
    "def f2(n1,n2):\n",
    "    return n1+n2,n1-n2,n1*n2,n1/n2\n",
    "print('add is:',n1+n2)\n",
    "print('subtact is:',n1-n2)\n",
    "print('multiply is:',n1*n2)\n",
    "print('division is:',n1/n2)   "
   ]
  },
  {
   "cell_type": "code",
   "execution_count": null,
   "id": "remarkable-endorsement",
   "metadata": {},
   "outputs": [],
   "source": []
  }
 ],
 "metadata": {
  "kernelspec": {
   "display_name": "Python 3",
   "language": "python",
   "name": "python3"
  },
  "language_info": {
   "codemirror_mode": {
    "name": "ipython",
    "version": 3
   },
   "file_extension": ".py",
   "mimetype": "text/x-python",
   "name": "python",
   "nbconvert_exporter": "python",
   "pygments_lexer": "ipython3",
   "version": "3.8.0"
  }
 },
 "nbformat": 4,
 "nbformat_minor": 5
}
