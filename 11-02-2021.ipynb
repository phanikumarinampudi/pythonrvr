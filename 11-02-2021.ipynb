{
 "cells": [
  {
   "cell_type": "code",
   "execution_count": 5,
   "id": "executed-branch",
   "metadata": {},
   "outputs": [
    {
     "name": "stdout",
     "output_type": "stream",
     "text": [
      "abc_123$@gmail.com\n",
      "ram.mandal@gmail.com\n",
      "abc123@gmailacom\n"
     ]
    }
   ],
   "source": [
    "import re\n",
    "\n",
    "pattern = '^[A-Za-z0-9].{4,15}(@gmail.com)$'\n",
    "emails = ['abc_123$@gmail.com','ram.mandal@gmail.com','_abc@gmail.com','abc123@gmailacom']\n",
    "for email in emails:\n",
    "    if re.match(pattern,email):\n",
    "        print(email)"
   ]
  },
  {
   "cell_type": "code",
   "execution_count": null,
   "id": "lyric-panic",
   "metadata": {},
   "outputs": [],
   "source": []
  }
 ],
 "metadata": {
  "kernelspec": {
   "display_name": "Python 3",
   "language": "python",
   "name": "python3"
  },
  "language_info": {
   "codemirror_mode": {
    "name": "ipython",
    "version": 3
   },
   "file_extension": ".py",
   "mimetype": "text/x-python",
   "name": "python",
   "nbconvert_exporter": "python",
   "pygments_lexer": "ipython3",
   "version": "3.8.0"
  }
 },
 "nbformat": 4,
 "nbformat_minor": 5
}
