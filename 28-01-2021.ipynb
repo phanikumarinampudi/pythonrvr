{
 "cells": [
  {
   "cell_type": "code",
   "execution_count": 1,
   "id": "superior-dispute",
   "metadata": {},
   "outputs": [
    {
     "data": {
      "text/plain": [
       "'my name is: rvr ece apssdc'"
      ]
     },
     "execution_count": 1,
     "metadata": {},
     "output_type": "execute_result"
    }
   ],
   "source": [
    "a = \"my name is: {}\"\n",
    "name = \"rvr ece apssdc\"\n",
    "a.format(name)"
   ]
  },
  {
   "cell_type": "code",
   "execution_count": 10,
   "id": "beneficial-coach",
   "metadata": {},
   "outputs": [
    {
     "data": {
      "text/plain": [
       "'my roll number is: y19ec069 ,my name is : phanikumar,my email id is : phanikumarinampudi@gmail.com'"
      ]
     },
     "execution_count": 10,
     "metadata": {},
     "output_type": "execute_result"
    }
   ],
   "source": [
    "a = \"my roll number is: {} ,my name is : {},my email id is : {}\"\n",
    "roll = \"y19ec069\"\n",
    "name = \"phanikumar\"\n",
    "email  = \"phanikumarinampudi@gmail.com\"\n",
    "a.format(roll,name,email )"
   ]
  },
  {
   "cell_type": "code",
   "execution_count": 11,
   "id": "failing-viking",
   "metadata": {},
   "outputs": [
    {
     "data": {
      "text/plain": [
       "58"
      ]
     },
     "execution_count": 11,
     "metadata": {},
     "output_type": "execute_result"
    }
   ],
   "source": [
    "len(a)"
   ]
  },
  {
   "cell_type": "code",
   "execution_count": 12,
   "id": "universal-livestock",
   "metadata": {},
   "outputs": [
    {
     "data": {
      "text/plain": [
       "3"
      ]
     },
     "execution_count": 12,
     "metadata": {},
     "output_type": "execute_result"
    }
   ],
   "source": [
    "a.count('s')"
   ]
  },
  {
   "cell_type": "code",
   "execution_count": 25,
   "id": "virgin-ordinance",
   "metadata": {},
   "outputs": [
    {
     "data": {
      "text/plain": [
       "False"
      ]
     },
     "execution_count": 25,
     "metadata": {},
     "output_type": "execute_result"
    }
   ],
   "source": [
    "a =\"1234\"\n",
    "a.isalpha()"
   ]
  },
  {
   "cell_type": "code",
   "execution_count": 26,
   "id": "complimentary-slovak",
   "metadata": {},
   "outputs": [
    {
     "data": {
      "text/plain": [
       "True"
      ]
     },
     "execution_count": 26,
     "metadata": {},
     "output_type": "execute_result"
    }
   ],
   "source": [
    "a.isalnum()"
   ]
  },
  {
   "cell_type": "code",
   "execution_count": 30,
   "id": "suspected-heath",
   "metadata": {},
   "outputs": [
    {
     "data": {
      "text/plain": [
       "False"
      ]
     },
     "execution_count": 30,
     "metadata": {},
     "output_type": "execute_result"
    }
   ],
   "source": [
    "g= \"ece1234556\"\n",
    "g.isdigit()"
   ]
  },
  {
   "cell_type": "code",
   "execution_count": 41,
   "id": "offshore-creator",
   "metadata": {},
   "outputs": [
    {
     "data": {
      "text/plain": [
       "8"
      ]
     },
     "execution_count": 41,
     "metadata": {},
     "output_type": "execute_result"
    }
   ],
   "source": [
    "g.find('56')"
   ]
  },
  {
   "cell_type": "code",
   "execution_count": 42,
   "id": "silver-forwarding",
   "metadata": {},
   "outputs": [
    {
     "data": {
      "text/plain": [
       "10"
      ]
     },
     "execution_count": 42,
     "metadata": {},
     "output_type": "execute_result"
    }
   ],
   "source": [
    "len(g)"
   ]
  },
  {
   "cell_type": "code",
   "execution_count": 45,
   "id": "elementary-assistant",
   "metadata": {},
   "outputs": [
    {
     "data": {
      "text/plain": [
       "'Apssdc'"
      ]
     },
     "execution_count": 45,
     "metadata": {},
     "output_type": "execute_result"
    }
   ],
   "source": [
    "g1 = 'apssdc'\n",
    "g1.replace('a','A')"
   ]
  },
  {
   "cell_type": "code",
   "execution_count": 46,
   "id": "musical-distance",
   "metadata": {},
   "outputs": [
    {
     "data": {
      "text/plain": [
       "'apssdc'"
      ]
     },
     "execution_count": 46,
     "metadata": {},
     "output_type": "execute_result"
    }
   ],
   "source": [
    "g1"
   ]
  },
  {
   "cell_type": "code",
   "execution_count": 2,
   "id": "silver-montgomery",
   "metadata": {},
   "outputs": [
    {
     "data": {
      "text/plain": [
       "'APSSDC'"
      ]
     },
     "execution_count": 2,
     "metadata": {},
     "output_type": "execute_result"
    }
   ],
   "source": [
    "g2 ='apssdc'\n",
    "g2.swapcase() #upper-lower #lower-upper"
   ]
  },
  {
   "cell_type": "code",
   "execution_count": 4,
   "id": "paperback-threshold",
   "metadata": {},
   "outputs": [
    {
     "data": {
      "text/plain": [
       "'apssdc'"
      ]
     },
     "execution_count": 4,
     "metadata": {},
     "output_type": "execute_result"
    }
   ],
   "source": [
    "g2.translate('80:83')"
   ]
  },
  {
   "cell_type": "code",
   "execution_count": 6,
   "id": "extended-preparation",
   "metadata": {},
   "outputs": [
    {
     "data": {
      "text/plain": [
       "True"
      ]
     },
     "execution_count": 6,
     "metadata": {},
     "output_type": "execute_result"
    }
   ],
   "source": [
    "g2.startswith('a')"
   ]
  },
  {
   "cell_type": "code",
   "execution_count": 8,
   "id": "muslim-objective",
   "metadata": {},
   "outputs": [
    {
     "data": {
      "text/plain": [
       "False"
      ]
     },
     "execution_count": 8,
     "metadata": {},
     "output_type": "execute_result"
    }
   ],
   "source": [
    "g2.endswith('sd')"
   ]
  },
  {
   "cell_type": "code",
   "execution_count": 11,
   "id": "passing-marathon",
   "metadata": {},
   "outputs": [
    {
     "data": {
      "text/plain": [
       "3"
      ]
     },
     "execution_count": 11,
     "metadata": {},
     "output_type": "execute_result"
    }
   ],
   "source": [
    "g2.index('sd') #index is same as find statement "
   ]
  },
  {
   "cell_type": "code",
   "execution_count": 16,
   "id": "national-sociology",
   "metadata": {},
   "outputs": [
    {
     "data": {
      "text/plain": [
       "False"
      ]
     },
     "execution_count": 16,
     "metadata": {},
     "output_type": "execute_result"
    }
   ],
   "source": [
    "g2.isupper()"
   ]
  },
  {
   "cell_type": "code",
   "execution_count": 17,
   "id": "respective-pitch",
   "metadata": {},
   "outputs": [
    {
     "data": {
      "text/plain": [
       "True"
      ]
     },
     "execution_count": 17,
     "metadata": {},
     "output_type": "execute_result"
    }
   ],
   "source": [
    "g2.islower()"
   ]
  },
  {
   "cell_type": "code",
   "execution_count": 29,
   "id": "negative-logistics",
   "metadata": {},
   "outputs": [
    {
     "name": "stdout",
     "output_type": "stream",
     "text": [
      "enter a stringapssdc\n",
      "6\n"
     ]
    }
   ],
   "source": [
    "# calculate the length of the string?\n",
    "n = input(\"enter a string\")\n",
    "cnt = 0\n",
    "for i in n:\n",
    "    cnt+=1\n",
    "print(cnt)"
   ]
  },
  {
   "cell_type": "code",
   "execution_count": 32,
   "id": "unnecessary-discharge",
   "metadata": {},
   "outputs": [
    {
     "name": "stdout",
     "output_type": "stream",
     "text": [
      "ece\n",
      "ece\n"
     ]
    }
   ],
   "source": [
    "n = 'python programming for ece dept....!'\n",
    "#slicing\n",
    "print(n[23:26])\n",
    "print(n[-13:-10])"
   ]
  },
  {
   "cell_type": "code",
   "execution_count": 53,
   "id": "disabled-framework",
   "metadata": {},
   "outputs": [
    {
     "name": "stdout",
     "output_type": "stream",
     "text": [
      "A p s s d c I E d f O d c U "
     ]
    }
   ],
   "source": [
    "s = 'apssdciedfodcu'\n",
    "s1 = 'aeiou'\n",
    "for i in s:\n",
    "    if i in s1:\n",
    "        print(i.upper(),end = ' ')\n",
    "    else:\n",
    "        print(i,end =' ')"
   ]
  },
  {
   "cell_type": "code",
   "execution_count": 41,
   "id": "detected-escape",
   "metadata": {},
   "outputs": [
    {
     "data": {
      "text/plain": [
       "'S'"
      ]
     },
     "execution_count": 41,
     "metadata": {},
     "output_type": "execute_result"
    }
   ],
   "source": [
    "chr(83)"
   ]
  },
  {
   "cell_type": "code",
   "execution_count": 49,
   "id": "southwest-hopkins",
   "metadata": {},
   "outputs": [
    {
     "data": {
      "text/plain": [
       "117"
      ]
     },
     "execution_count": 49,
     "metadata": {},
     "output_type": "execute_result"
    }
   ],
   "source": [
    "ord('u')"
   ]
  },
  {
   "cell_type": "markdown",
   "id": "narrow-joining",
   "metadata": {},
   "source": [
    "### Task -1\n",
    "===========\n",
    " - abc mno\n",
    " - def pqr \n",
    " ### Task -2\n",
    " - s = \"APSSDCAPSSDC\"------>INPUT\n",
    " - RES = \"APSDCAP$DC\"------>OUTPUT"
   ]
  },
  {
   "cell_type": "markdown",
   "id": "intermediate-shelf",
   "metadata": {},
   "source": [
    "### TASK -3\n",
    " - G = 'ABCefg123@$%ABCabc'\n",
    " - upper,lower,specialsymbols,len"
   ]
  },
  {
   "cell_type": "markdown",
   "id": "satisfactory-horse",
   "metadata": {},
   "source": [
    "### list\n",
    " - stores different data types like strings, integers,floating,....\n",
    " - "
   ]
  },
  {
   "cell_type": "code",
   "execution_count": 58,
   "id": "intermediate-ivory",
   "metadata": {},
   "outputs": [
    {
     "name": "stdout",
     "output_type": "stream",
     "text": [
      "<class 'list'>\n"
     ]
    }
   ],
   "source": [
    "l = [] # empty list\n",
    "print(type(l))"
   ]
  },
  {
   "cell_type": "code",
   "execution_count": 78,
   "id": "streaming-attraction",
   "metadata": {},
   "outputs": [
    {
     "data": {
      "text/plain": [
       "['rvr&jc', 'ece', 234, 456, [1, 2, 34, 5, 6], 'rvr']"
      ]
     },
     "execution_count": 78,
     "metadata": {},
     "output_type": "execute_result"
    }
   ],
   "source": [
    "l1 = ['rvr&jc','ece',234,456,[1,2,34,5,6],'rvr'] #non empty list\n",
    "l1"
   ]
  },
  {
   "cell_type": "code",
   "execution_count": 61,
   "id": "victorian-mixer",
   "metadata": {},
   "outputs": [
    {
     "data": {
      "text/plain": [
       "456"
      ]
     },
     "execution_count": 61,
     "metadata": {},
     "output_type": "execute_result"
    }
   ],
   "source": [
    "l1[3]"
   ]
  },
  {
   "cell_type": "code",
   "execution_count": 62,
   "id": "inclusive-maldives",
   "metadata": {},
   "outputs": [
    {
     "data": {
      "text/plain": [
       "['rvr&jc', 'ece', 234, 456]"
      ]
     },
     "execution_count": 62,
     "metadata": {},
     "output_type": "execute_result"
    }
   ],
   "source": [
    "l1[:]"
   ]
  },
  {
   "cell_type": "code",
   "execution_count": 63,
   "id": "forty-austria",
   "metadata": {},
   "outputs": [
    {
     "data": {
      "text/plain": [
       "[]"
      ]
     },
     "execution_count": 63,
     "metadata": {},
     "output_type": "execute_result"
    }
   ],
   "source": [
    "l1[5:7]"
   ]
  },
  {
   "cell_type": "code",
   "execution_count": 64,
   "id": "proof-catch",
   "metadata": {},
   "outputs": [
    {
     "data": {
      "text/plain": [
       "[234]"
      ]
     },
     "execution_count": 64,
     "metadata": {},
     "output_type": "execute_result"
    }
   ],
   "source": [
    "l1[2:3]"
   ]
  },
  {
   "cell_type": "code",
   "execution_count": 68,
   "id": "outer-convergence",
   "metadata": {},
   "outputs": [
    {
     "data": {
      "text/plain": [
       "[1, 2, 34, 5, 6]"
      ]
     },
     "execution_count": 68,
     "metadata": {},
     "output_type": "execute_result"
    }
   ],
   "source": [
    "l1[4]"
   ]
  },
  {
   "cell_type": "code",
   "execution_count": 69,
   "id": "apparent-dress",
   "metadata": {},
   "outputs": [
    {
     "data": {
      "text/plain": [
       "34"
      ]
     },
     "execution_count": 69,
     "metadata": {},
     "output_type": "execute_result"
    }
   ],
   "source": [
    "l1[-1][2]"
   ]
  },
  {
   "cell_type": "code",
   "execution_count": 82,
   "id": "professional-species",
   "metadata": {},
   "outputs": [
    {
     "data": {
      "text/plain": [
       "['rvr', [1, 2, 34, 5, 6], 456, 234, 'ece', 'rvr&jc']"
      ]
     },
     "execution_count": 82,
     "metadata": {},
     "output_type": "execute_result"
    }
   ],
   "source": [
    "l1 = l1[::-1] #entire list will be reversed\n",
    "l1"
   ]
  },
  {
   "cell_type": "code",
   "execution_count": 84,
   "id": "irish-width",
   "metadata": {},
   "outputs": [],
   "source": [
    "a ='sdc'\n",
    "b =[1,2,34,5,6]\n",
    "del a\n",
    "del b"
   ]
  },
  {
   "cell_type": "code",
   "execution_count": 87,
   "id": "european-partnership",
   "metadata": {},
   "outputs": [
    {
     "data": {
      "text/plain": [
       "['__add__',\n",
       " '__class__',\n",
       " '__contains__',\n",
       " '__delattr__',\n",
       " '__delitem__',\n",
       " '__dir__',\n",
       " '__doc__',\n",
       " '__eq__',\n",
       " '__format__',\n",
       " '__ge__',\n",
       " '__getattribute__',\n",
       " '__getitem__',\n",
       " '__gt__',\n",
       " '__hash__',\n",
       " '__iadd__',\n",
       " '__imul__',\n",
       " '__init__',\n",
       " '__init_subclass__',\n",
       " '__iter__',\n",
       " '__le__',\n",
       " '__len__',\n",
       " '__lt__',\n",
       " '__mul__',\n",
       " '__ne__',\n",
       " '__new__',\n",
       " '__reduce__',\n",
       " '__reduce_ex__',\n",
       " '__repr__',\n",
       " '__reversed__',\n",
       " '__rmul__',\n",
       " '__setattr__',\n",
       " '__setitem__',\n",
       " '__sizeof__',\n",
       " '__str__',\n",
       " '__subclasshook__',\n",
       " 'append',\n",
       " 'clear',\n",
       " 'copy',\n",
       " 'count',\n",
       " 'extend',\n",
       " 'index',\n",
       " 'insert',\n",
       " 'pop',\n",
       " 'remove',\n",
       " 'reverse',\n",
       " 'sort']"
      ]
     },
     "execution_count": 87,
     "metadata": {},
     "output_type": "execute_result"
    }
   ],
   "source": [
    "dir(l1)"
   ]
  },
  {
   "cell_type": "code",
   "execution_count": 88,
   "id": "religious-conspiracy",
   "metadata": {},
   "outputs": [],
   "source": [
    "l1.reverse()"
   ]
  },
  {
   "cell_type": "code",
   "execution_count": 89,
   "id": "recreational-branch",
   "metadata": {},
   "outputs": [
    {
     "data": {
      "text/plain": [
       "['rvr&jc', 'ece', 234, 456, [1, 2, 34, 5, 6], 'rvr']"
      ]
     },
     "execution_count": 89,
     "metadata": {},
     "output_type": "execute_result"
    }
   ],
   "source": [
    "l1"
   ]
  },
  {
   "cell_type": "code",
   "execution_count": 92,
   "id": "fiscal-editing",
   "metadata": {},
   "outputs": [
    {
     "name": "stdout",
     "output_type": "stream",
     "text": [
      "[1, 2, 3, 4, 5, 6, 10, 20, 30, 40, 50, 60]\n"
     ]
    }
   ],
   "source": [
    "a = [1,2,3,4,5,6]\n",
    "b = [10,20,30,40,50,60]\n",
    "c = a+b\n",
    "print(c)"
   ]
  },
  {
   "cell_type": "code",
   "execution_count": 97,
   "id": "characteristic-lincoln",
   "metadata": {},
   "outputs": [],
   "source": [
    "c.append(1)"
   ]
  },
  {
   "cell_type": "code",
   "execution_count": 98,
   "id": "subsequent-production",
   "metadata": {},
   "outputs": [
    {
     "name": "stdout",
     "output_type": "stream",
     "text": [
      "[1, 2, 3, 4, 5, 6, 10, 20, 30, 40, 50, 60, 'rvr', 'rvr', 'rvr', 1]\n"
     ]
    }
   ],
   "source": [
    "print(c)"
   ]
  },
  {
   "cell_type": "code",
   "execution_count": 102,
   "id": "interstate-intention",
   "metadata": {},
   "outputs": [
    {
     "data": {
      "text/plain": [
       "2"
      ]
     },
     "execution_count": 102,
     "metadata": {},
     "output_type": "execute_result"
    }
   ],
   "source": [
    "c.count(1)"
   ]
  },
  {
   "cell_type": "code",
   "execution_count": 107,
   "id": "international-diving",
   "metadata": {},
   "outputs": [],
   "source": [
    "c.clear()"
   ]
  },
  {
   "cell_type": "code",
   "execution_count": 108,
   "id": "accessory-gathering",
   "metadata": {},
   "outputs": [
    {
     "data": {
      "text/plain": [
       "[]"
      ]
     },
     "execution_count": 108,
     "metadata": {},
     "output_type": "execute_result"
    }
   ],
   "source": [
    "c"
   ]
  },
  {
   "cell_type": "code",
   "execution_count": null,
   "id": "disturbed-relation",
   "metadata": {},
   "outputs": [],
   "source": []
  }
 ],
 "metadata": {
  "kernelspec": {
   "display_name": "Python 3",
   "language": "python",
   "name": "python3"
  },
  "language_info": {
   "codemirror_mode": {
    "name": "ipython",
    "version": 3
   },
   "file_extension": ".py",
   "mimetype": "text/x-python",
   "name": "python",
   "nbconvert_exporter": "python",
   "pygments_lexer": "ipython3",
   "version": "3.8.0"
  }
 },
 "nbformat": 4,
 "nbformat_minor": 5
}
