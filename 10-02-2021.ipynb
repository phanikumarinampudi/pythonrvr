{
 "cells": [
  {
   "cell_type": "markdown",
   "id": "surgical-helena",
   "metadata": {},
   "source": [
    "## File handling Techniques using python \n",
    "- what is a file?\n",
    "  - collection of records\n",
    "  - stores the data\n",
    "## File  operations\n",
    " - open a file\n",
    "   - open('filename','Mode')\n",
    " - read( ) -  Read the data in a file\n",
    " - write( ) - To write a data into a file\n",
    " - append( ) - to add the data into a file\n",
    " - close( ) - close the file\n",
    " ## modes:\n",
    "  - read mode - r\n",
    "  - write mode - w\n",
    "  - append mode -a"
   ]
  },
  {
   "cell_type": "code",
   "execution_count": 1,
   "id": "sought-glenn",
   "metadata": {},
   "outputs": [
    {
     "name": "stdout",
     "output_type": "stream",
     "text": [
      "<_io.TextIOWrapper name='File.txt' mode='r' encoding='cp1252'>\n"
     ]
    }
   ],
   "source": [
    "#open a file\n",
    "\n",
    "f = open('File.txt','r')\n",
    "print(f)"
   ]
  },
  {
   "cell_type": "code",
   "execution_count": 2,
   "id": "relevant-enclosure",
   "metadata": {},
   "outputs": [
    {
     "name": "stdout",
     "output_type": "stream",
     "text": [
      "abhi\n"
     ]
    }
   ],
   "source": [
    "#read the data\n",
    "f = open('abc.py')\n",
    "f1 = f.read()\n",
    "print(f1)"
   ]
  },
  {
   "cell_type": "code",
   "execution_count": 3,
   "id": "needed-helmet",
   "metadata": {},
   "outputs": [
    {
     "name": "stdout",
     "output_type": "stream",
     "text": [
      "4\n"
     ]
    }
   ],
   "source": [
    "#write \n",
    "f = open('abc.py','w')\n",
    "data = 'abhi'\n",
    "f1 = f.write(data)\n",
    "f.close()\n",
    "print(f1)"
   ]
  },
  {
   "cell_type": "code",
   "execution_count": 6,
   "id": "stretch-round",
   "metadata": {},
   "outputs": [
    {
     "data": {
      "text/plain": [
       "'abhi'"
      ]
     },
     "execution_count": 6,
     "metadata": {},
     "output_type": "execute_result"
    }
   ],
   "source": [
    "f = open('C:\\\\Users\\\\APSSDC-RVRJC\\\\Desktop\\\\github files\\\\abc.py')\n",
    "f2 = f.read()\n",
    "f2"
   ]
  },
  {
   "cell_type": "code",
   "execution_count": 7,
   "id": "another-screw",
   "metadata": {},
   "outputs": [
    {
     "name": "stdout",
     "output_type": "stream",
     "text": [
      "append the data into file\n"
     ]
    }
   ],
   "source": [
    "#append\n",
    "f = open('C:\\\\Users\\\\APSSDC-RVRJC\\\\Desktop\\\\github files\\\\abc.py','a')\n",
    "f3 = f.write('rvr')\n",
    "f.close()\n",
    "print(\"append the data into file\")"
   ]
  },
  {
   "cell_type": "code",
   "execution_count": 8,
   "id": "recognized-permit",
   "metadata": {},
   "outputs": [
    {
     "name": "stdout",
     "output_type": "stream",
     "text": [
      "<_io.TextIOWrapper name='C:\\\\Users\\\\APSSDC-RVRJC\\\\Desktop\\\\github files\\\\java.py' mode='r' encoding='cp1252'>\n"
     ]
    }
   ],
   "source": [
    "f = open('C:\\\\Users\\\\APSSDC-RVRJC\\\\Desktop\\\\github files\\\\java.py','r')\n",
    "print(f)\n"
   ]
  },
  {
   "cell_type": "code",
   "execution_count": 9,
   "id": "steady-appointment",
   "metadata": {},
   "outputs": [
    {
     "name": "stdout",
     "output_type": "stream",
     "text": [
      "name:phani kumar\n",
      "roll no.:y19ec069\n",
      "branch:ECE\n",
      "email id:phanikumarinampudi@gmail.com\n",
      "phone number:6305524667    \n"
     ]
    }
   ],
   "source": [
    "f1 = f.read()\n",
    "print(f1)"
   ]
  },
  {
   "cell_type": "code",
   "execution_count": 12,
   "id": "laden-blair",
   "metadata": {},
   "outputs": [
    {
     "name": "stdout",
     "output_type": "stream",
     "text": [
      "Data appended\n"
     ]
    }
   ],
   "source": [
    "f = open('C:\\\\Users\\\\APSSDC-RVRJC\\\\Desktop\\\\github files\\\\java.py','w')\n",
    "f2 = f.write('college : RVRJC')\n",
    "f.close()\n",
    "print(\"Data appended\")"
   ]
  },
  {
   "cell_type": "code",
   "execution_count": 13,
   "id": "acknowledged-editor",
   "metadata": {},
   "outputs": [
    {
     "name": "stdout",
     "output_type": "stream",
     "text": [
      "college : RVRJC\n"
     ]
    }
   ],
   "source": [
    "f = open('C:\\\\Users\\\\APSSDC-RVRJC\\\\Desktop\\\\github files\\\\java.py','r')\n",
    "f1 = f.read()\n",
    "print(f1)"
   ]
  },
  {
   "cell_type": "code",
   "execution_count": 15,
   "id": "invisible-chest",
   "metadata": {},
   "outputs": [
    {
     "name": "stdout",
     "output_type": "stream",
     "text": [
      "append data is success\n"
     ]
    }
   ],
   "source": [
    "#with out close a file\n",
    "with open('java.py','a')as phani:\n",
    "    data = 'APSSDC'\n",
    "    phani.write(data)\n",
    "    print('append data is success')"
   ]
  },
  {
   "cell_type": "markdown",
   "id": "reserved-specific",
   "metadata": {},
   "source": [
    "## Schindler Igniting Minds (SIM) Scholarship for B.E. & B.Tech 2020-2021\n",
    "### Minimum Eligibility Criteria\n",
    " \n",
    "\n",
    "Qualification criteria : Minimum 70% in Class 10, Minimum 70% in Class 12, Minimum 60% in Diploma,\n",
    "\n",
    " \n",
    "\n",
    "Course Details :\n",
    "\n",
    "Course Level : Under Graduate\n",
    "\n",
    " \n",
    "\n",
    "1) Course Name : B.E./B.Tech. (BE/BTech)\n",
    "2) Course Name : B.Ch.E.-Bachelor of Chemical Engineering (BChE)\n",
    "3) Course Name : B.C.E.-Bachelor of Civil Engineering (BCE)\n",
    "\n",
    " \n",
    "\n",
    "Gender : All Gender\n",
    "\n",
    " \n",
    "\n",
    "Scheme is available to only student whose family income is between 0.00 – 300000.00\n",
    "\n",
    "Financial Year 2020-2021\n",
    "\n",
    "Start Date From 13/01/2021\n",
    "\n",
    "Valid Upto 10/02/2021\n",
    "\n",
    "Scholarship Amount (INR) 75000.00"
   ]
  },
  {
   "cell_type": "markdown",
   "id": "abroad-classification",
   "metadata": {},
   "source": [
    "https://www.geeksforgeeks.org/python-programming-language/"
   ]
  },
  {
   "cell_type": "code",
   "execution_count": null,
   "id": "suburban-michigan",
   "metadata": {},
   "outputs": [],
   "source": []
  }
 ],
 "metadata": {
  "kernelspec": {
   "display_name": "Python 3",
   "language": "python",
   "name": "python3"
  },
  "language_info": {
   "codemirror_mode": {
    "name": "ipython",
    "version": 3
   },
   "file_extension": ".py",
   "mimetype": "text/x-python",
   "name": "python",
   "nbconvert_exporter": "python",
   "pygments_lexer": "ipython3",
   "version": "3.8.0"
  }
 },
 "nbformat": 4,
 "nbformat_minor": 5
}
