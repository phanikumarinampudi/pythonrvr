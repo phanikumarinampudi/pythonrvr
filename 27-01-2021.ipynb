{
 "cells": [
  {
   "cell_type": "markdown",
   "id": "democratic-round",
   "metadata": {},
   "source": [
    "# based on arguments:\n",
    "#1. default arg \n",
    "#2. required or positional arg\n",
    "#3. variable length arg\n",
    "#4. keyword arg"
   ]
  },
  {
   "cell_type": "code",
   "execution_count": 11,
   "id": "cross-color",
   "metadata": {},
   "outputs": [
    {
     "data": {
      "text/plain": [
       "1000"
      ]
     },
     "execution_count": 11,
     "metadata": {},
     "output_type": "execute_result"
    }
   ],
   "source": [
    "#1.default arg:\n",
    "def default(a=10,b=20):\n",
    "    return a*b\n",
    "default()\n",
    "default(50)\n",
    "default(50,20)"
   ]
  },
  {
   "cell_type": "code",
   "execution_count": 12,
   "id": "beneficial-punishment",
   "metadata": {},
   "outputs": [
    {
     "data": {
      "text/plain": [
       "range(1, 10)"
      ]
     },
     "execution_count": 12,
     "metadata": {},
     "output_type": "execute_result"
    }
   ],
   "source": [
    "range(1,10)"
   ]
  },
  {
   "cell_type": "code",
   "execution_count": 19,
   "id": "informal-rotation",
   "metadata": {},
   "outputs": [
    {
     "data": {
      "text/plain": [
       "170"
      ]
     },
     "execution_count": 19,
     "metadata": {},
     "output_type": "execute_result"
    }
   ],
   "source": [
    "#2. required or positional arg\n",
    "def required(a = 10,b = 20,c = 30):\n",
    "    return a**2+2*b+c\n",
    "required()"
   ]
  },
  {
   "cell_type": "code",
   "execution_count": 28,
   "id": "marine-cannon",
   "metadata": {},
   "outputs": [
    {
     "name": "stdout",
     "output_type": "stream",
     "text": [
      "10 20 (30,)\n"
     ]
    }
   ],
   "source": [
    "#3. variable length arg\n",
    "def var_len(a,b=20,*c):\n",
    "    return a,b,c\n",
    "a,b,c =var_len(10,20,30)\n",
    "print(a,b,c)"
   ]
  },
  {
   "cell_type": "code",
   "execution_count": 34,
   "id": "appointed-crack",
   "metadata": {},
   "outputs": [
    {
     "data": {
      "text/plain": [
       "80"
      ]
     },
     "execution_count": 34,
     "metadata": {},
     "output_type": "execute_result"
    }
   ],
   "source": [
    "def var_len(a,b=20,*c):\n",
    "    return a+b+sum(c)\n",
    "e = var_len(10,20,30)\n",
    "def var_len1(c,d):\n",
    "    return c+d+e\n",
    "var_len1(10,10)"
   ]
  },
  {
   "cell_type": "code",
   "execution_count": 36,
   "id": "alive-postage",
   "metadata": {},
   "outputs": [
    {
     "name": "stdout",
     "output_type": "stream",
     "text": [
      "90 233 (67, 89)\n"
     ]
    }
   ],
   "source": [
    "def var_len(a,*c,b =20):\n",
    "    return a,b,c\n",
    "a,b,c = var_len(90,67,89,b = 233)\n",
    "print(a,b,c)"
   ]
  },
  {
   "cell_type": "markdown",
   "id": "curious-landscape",
   "metadata": {},
   "source": [
    "# keyword arg"
   ]
  },
  {
   "cell_type": "code",
   "execution_count": 43,
   "id": "entitled-rocket",
   "metadata": {},
   "outputs": [
    {
     "data": {
      "text/plain": [
       "{'name': ['a', 'b', 'c']}"
      ]
     },
     "execution_count": 43,
     "metadata": {},
     "output_type": "execute_result"
    }
   ],
   "source": [
    "def key_word(**name):\n",
    "    return name\n",
    "key_word(name = ['a','b','c'])"
   ]
  },
  {
   "cell_type": "code",
   "execution_count": 48,
   "id": "guilty-environment",
   "metadata": {},
   "outputs": [
    {
     "data": {
      "text/plain": [
       "True"
      ]
     },
     "execution_count": 48,
     "metadata": {},
     "output_type": "execute_result"
    }
   ],
   "source": [
    "def Is_perfect(n):\n",
    "    s = 0\n",
    "    for i in range(1,n):\n",
    "        if n%i == 0:\n",
    "            s+=i\n",
    "    if s==n:\n",
    "                return True\n",
    "    else:\n",
    "                return False\n",
    "Is_perfect(28)           "
   ]
  },
  {
   "cell_type": "code",
   "execution_count": 54,
   "id": "fixed-italian",
   "metadata": {},
   "outputs": [
    {
     "name": "stdout",
     "output_type": "stream",
     "text": [
      "6\n",
      "28\n",
      "496\n"
     ]
    }
   ],
   "source": [
    "def perfect_gen(start,end):\n",
    "    for i in range(start,end+1):\n",
    "        if Is_perfect(i):\n",
    "            print(i)\n",
    "perfect_gen(start = 1,end = 1000)"
   ]
  },
  {
   "cell_type": "markdown",
   "id": "featured-gender",
   "metadata": {},
   "source": [
    "### strings"
   ]
  },
  {
   "cell_type": "markdown",
   "id": "arbitrary-compensation",
   "metadata": {},
   "source": [
    "- What is string?\n",
    "    - collection of characters.\n",
    "    - enclosed with single quotes or double quotes(\"or\")"
   ]
  },
  {
   "cell_type": "code",
   "execution_count": 55,
   "id": "parliamentary-arbitration",
   "metadata": {},
   "outputs": [
    {
     "data": {
      "text/plain": [
       "' '"
      ]
     },
     "execution_count": 55,
     "metadata": {},
     "output_type": "execute_result"
    }
   ],
   "source": [
    "s = ' '\n",
    "#print(type(s))\n",
    "s"
   ]
  },
  {
   "cell_type": "code",
   "execution_count": 82,
   "id": "raising-australia",
   "metadata": {},
   "outputs": [
    {
     "name": "stdout",
     "output_type": "stream",
     "text": [
      "APSSDC\n"
     ]
    },
    {
     "data": {
      "text/plain": [
       "'APSSDC'"
      ]
     },
     "execution_count": 82,
     "metadata": {},
     "output_type": "execute_result"
    }
   ],
   "source": [
    "g = \"APSSDC\"\n",
    "print(g)\n",
    "g"
   ]
  },
  {
   "cell_type": "code",
   "execution_count": 57,
   "id": "considered-metabolism",
   "metadata": {},
   "outputs": [
    {
     "data": {
      "text/plain": [
       "'c'"
      ]
     },
     "execution_count": 57,
     "metadata": {},
     "output_type": "execute_result"
    }
   ],
   "source": [
    "#accessing the value\n",
    "g[5] #forward indexing"
   ]
  },
  {
   "cell_type": "code",
   "execution_count": 66,
   "id": "artistic-carnival",
   "metadata": {},
   "outputs": [
    {
     "data": {
      "text/plain": [
       "'c'"
      ]
     },
     "execution_count": 66,
     "metadata": {},
     "output_type": "execute_result"
    }
   ],
   "source": [
    "g[-1] #backward indexing"
   ]
  },
  {
   "cell_type": "code",
   "execution_count": 63,
   "id": "dominican-berkeley",
   "metadata": {},
   "outputs": [
    {
     "name": "stdout",
     "output_type": "stream",
     "text": [
      "apssdc\n"
     ]
    },
    {
     "data": {
      "text/plain": [
       "'apssdc'"
      ]
     },
     "execution_count": 63,
     "metadata": {},
     "output_type": "execute_result"
    }
   ],
   "source": [
    "#slicing\n",
    "print(g)\n",
    "g[:6]"
   ]
  },
  {
   "cell_type": "code",
   "execution_count": 69,
   "id": "maritime-edward",
   "metadata": {},
   "outputs": [
    {
     "data": {
      "text/plain": [
       "'sd'"
      ]
     },
     "execution_count": 69,
     "metadata": {},
     "output_type": "execute_result"
    }
   ],
   "source": [
    "g[3:-1]"
   ]
  },
  {
   "cell_type": "code",
   "execution_count": 70,
   "id": "announced-bidding",
   "metadata": {},
   "outputs": [
    {
     "data": {
      "text/plain": [
       "'cdsspa'"
      ]
     },
     "execution_count": 70,
     "metadata": {},
     "output_type": "execute_result"
    }
   ],
   "source": [
    "g[::-1] #reverse string"
   ]
  },
  {
   "cell_type": "code",
   "execution_count": 73,
   "id": "genuine-jaguar",
   "metadata": {},
   "outputs": [
    {
     "name": "stdout",
     "output_type": "stream",
     "text": [
      "apssdc\n",
      "rvr\n",
      "ece\n"
     ]
    }
   ],
   "source": [
    "s1 = \"\"\"apssdc\n",
    "rvr\n",
    "ece\"\"\"\n",
    "print(s1)"
   ]
  },
  {
   "cell_type": "code",
   "execution_count": 77,
   "id": "handy-links",
   "metadata": {},
   "outputs": [
    {
     "name": "stdout",
     "output_type": "stream",
     "text": [
      "apssdc\n"
     ]
    },
    {
     "data": {
      "text/plain": [
       "'print(\"rvr\")\\nprint(\"ece\")'"
      ]
     },
     "execution_count": 77,
     "metadata": {},
     "output_type": "execute_result"
    }
   ],
   "source": [
    "print(\"apssdc\")\n",
    "'''print(\"rvr\")\n",
    "print(\"ece\")''' #multiline comment"
   ]
  },
  {
   "cell_type": "code",
   "execution_count": 78,
   "id": "introductory-melbourne",
   "metadata": {},
   "outputs": [
    {
     "data": {
      "text/plain": [
       "['__add__',\n",
       " '__class__',\n",
       " '__contains__',\n",
       " '__delattr__',\n",
       " '__dir__',\n",
       " '__doc__',\n",
       " '__eq__',\n",
       " '__format__',\n",
       " '__ge__',\n",
       " '__getattribute__',\n",
       " '__getitem__',\n",
       " '__getnewargs__',\n",
       " '__gt__',\n",
       " '__hash__',\n",
       " '__init__',\n",
       " '__init_subclass__',\n",
       " '__iter__',\n",
       " '__le__',\n",
       " '__len__',\n",
       " '__lt__',\n",
       " '__mod__',\n",
       " '__mul__',\n",
       " '__ne__',\n",
       " '__new__',\n",
       " '__reduce__',\n",
       " '__reduce_ex__',\n",
       " '__repr__',\n",
       " '__rmod__',\n",
       " '__rmul__',\n",
       " '__setattr__',\n",
       " '__sizeof__',\n",
       " '__str__',\n",
       " '__subclasshook__',\n",
       " 'capitalize',\n",
       " 'casefold',\n",
       " 'center',\n",
       " 'count',\n",
       " 'encode',\n",
       " 'endswith',\n",
       " 'expandtabs',\n",
       " 'find',\n",
       " 'format',\n",
       " 'format_map',\n",
       " 'index',\n",
       " 'isalnum',\n",
       " 'isalpha',\n",
       " 'isascii',\n",
       " 'isdecimal',\n",
       " 'isdigit',\n",
       " 'isidentifier',\n",
       " 'islower',\n",
       " 'isnumeric',\n",
       " 'isprintable',\n",
       " 'isspace',\n",
       " 'istitle',\n",
       " 'isupper',\n",
       " 'join',\n",
       " 'ljust',\n",
       " 'lower',\n",
       " 'lstrip',\n",
       " 'maketrans',\n",
       " 'partition',\n",
       " 'replace',\n",
       " 'rfind',\n",
       " 'rindex',\n",
       " 'rjust',\n",
       " 'rpartition',\n",
       " 'rsplit',\n",
       " 'rstrip',\n",
       " 'split',\n",
       " 'splitlines',\n",
       " 'startswith',\n",
       " 'strip',\n",
       " 'swapcase',\n",
       " 'title',\n",
       " 'translate',\n",
       " 'upper',\n",
       " 'zfill']"
      ]
     },
     "execution_count": 78,
     "metadata": {},
     "output_type": "execute_result"
    }
   ],
   "source": [
    "dir(g)"
   ]
  },
  {
   "cell_type": "code",
   "execution_count": 83,
   "id": "strategic-underwear",
   "metadata": {},
   "outputs": [
    {
     "data": {
      "text/plain": [
       "'APSSDC'"
      ]
     },
     "execution_count": 83,
     "metadata": {},
     "output_type": "execute_result"
    }
   ],
   "source": [
    "g.capitalize() #starting letter only capital\n",
    "g"
   ]
  },
  {
   "cell_type": "code",
   "execution_count": 84,
   "id": "narrative-calcium",
   "metadata": {},
   "outputs": [
    {
     "name": "stdout",
     "output_type": "stream",
     "text": [
      "APSSDC\n"
     ]
    },
    {
     "data": {
      "text/plain": [
       "'apssdc'"
      ]
     },
     "execution_count": 84,
     "metadata": {},
     "output_type": "execute_result"
    }
   ],
   "source": [
    "print(g)\n",
    "g.lower() #in this method upper to lower case "
   ]
  },
  {
   "cell_type": "code",
   "execution_count": 85,
   "id": "reliable-johnston",
   "metadata": {},
   "outputs": [
    {
     "data": {
      "text/plain": [
       "'ABCABC'"
      ]
     },
     "execution_count": 85,
     "metadata": {},
     "output_type": "execute_result"
    }
   ],
   "source": [
    "g1 = 'ABCabc'\n",
    "g1.upper()"
   ]
  },
  {
   "cell_type": "code",
   "execution_count": 95,
   "id": "boring-combat",
   "metadata": {},
   "outputs": [
    {
     "data": {
      "text/plain": [
       "'Apssdc$Python$Workshop'"
      ]
     },
     "execution_count": 95,
     "metadata": {},
     "output_type": "execute_result"
    }
   ],
   "source": [
    "g3 = 'apssdc$python$workshop'\n",
    "g3.title()"
   ]
  },
  {
   "cell_type": "code",
   "execution_count": 89,
   "id": "corporate-squad",
   "metadata": {},
   "outputs": [
    {
     "name": "stdout",
     "output_type": "stream",
     "text": [
      "RVR ECE\n"
     ]
    }
   ],
   "source": [
    "a = 'RVR'\n",
    "b = 'ECE'\n",
    "c = a+ ' '+b\n",
    "print(c)"
   ]
  },
  {
   "cell_type": "code",
   "execution_count": 90,
   "id": "linear-cisco",
   "metadata": {},
   "outputs": [
    {
     "data": {
      "text/plain": [
       "['RVR', 'ECE']"
      ]
     },
     "execution_count": 90,
     "metadata": {},
     "output_type": "execute_result"
    }
   ],
   "source": [
    "c.split()"
   ]
  },
  {
   "cell_type": "code",
   "execution_count": 91,
   "id": "atlantic-wagner",
   "metadata": {},
   "outputs": [
    {
     "data": {
      "text/plain": [
       "['RVR ECE']"
      ]
     },
     "execution_count": 91,
     "metadata": {},
     "output_type": "execute_result"
    }
   ],
   "source": [
    "c.split('rvrece')"
   ]
  },
  {
   "cell_type": "code",
   "execution_count": 97,
   "id": "green-sierra",
   "metadata": {},
   "outputs": [
    {
     "data": {
      "text/plain": [
       "['ap', '', 'dc$python$work', 'hop']"
      ]
     },
     "execution_count": 97,
     "metadata": {},
     "output_type": "execute_result"
    }
   ],
   "source": [
    "g3.split('s')"
   ]
  },
  {
   "cell_type": "code",
   "execution_count": 96,
   "id": "representative-cornwall",
   "metadata": {},
   "outputs": [
    {
     "data": {
      "text/plain": [
       "'apssdc$python$workshop'"
      ]
     },
     "execution_count": 96,
     "metadata": {},
     "output_type": "execute_result"
    }
   ],
   "source": [
    " g3.strip()"
   ]
  },
  {
   "cell_type": "code",
   "execution_count": 101,
   "id": "quantitative-sheep",
   "metadata": {},
   "outputs": [
    {
     "data": {
      "text/plain": [
       "22"
      ]
     },
     "execution_count": 101,
     "metadata": {},
     "output_type": "execute_result"
    }
   ],
   "source": [
    "z = '    python workshop   '\n",
    "len(z) #count the length of the string"
   ]
  },
  {
   "cell_type": "code",
   "execution_count": 102,
   "id": "close-helen",
   "metadata": {},
   "outputs": [
    {
     "data": {
      "text/plain": [
       "'python workshop'"
      ]
     },
     "execution_count": 102,
     "metadata": {},
     "output_type": "execute_result"
    }
   ],
   "source": [
    "z.strip() #remove the unwanted spaces "
   ]
  },
  {
   "cell_type": "code",
   "execution_count": 103,
   "id": "arbitrary-accordance",
   "metadata": {},
   "outputs": [
    {
     "data": {
      "text/plain": [
       "'python workshop   '"
      ]
     },
     "execution_count": 103,
     "metadata": {},
     "output_type": "execute_result"
    }
   ],
   "source": [
    "z.lstrip()"
   ]
  },
  {
   "cell_type": "code",
   "execution_count": 107,
   "id": "offensive-momentum",
   "metadata": {},
   "outputs": [
    {
     "data": {
      "text/plain": [
       "'rvr@ece'"
      ]
     },
     "execution_count": 107,
     "metadata": {},
     "output_type": "execute_result"
    }
   ],
   "source": [
    "a = ['rvr','ece']\n",
    "'@'.join(a)"
   ]
  },
  {
   "cell_type": "code",
   "execution_count": null,
   "id": "radio-imagination",
   "metadata": {},
   "outputs": [],
   "source": []
  }
 ],
 "metadata": {
  "kernelspec": {
   "display_name": "Python 3",
   "language": "python",
   "name": "python3"
  },
  "language_info": {
   "codemirror_mode": {
    "name": "ipython",
    "version": 3
   },
   "file_extension": ".py",
   "mimetype": "text/x-python",
   "name": "python",
   "nbconvert_exporter": "python",
   "pygments_lexer": "ipython3",
   "version": "3.8.0"
  }
 },
 "nbformat": 4,
 "nbformat_minor": 5
}
